{
 "cells": [
  {
   "cell_type": "code",
   "execution_count": 50,
   "metadata": {},
   "outputs": [],
   "source": [
    "import numpy as np\n",
    "import pandas as pd\n",
    "import seaborn as sns\n",
    "import matplotlib.pyplot as plt"
   ]
  },
  {
   "cell_type": "code",
   "execution_count": 51,
   "metadata": {},
   "outputs": [
    {
     "name": "stderr",
     "output_type": "stream",
     "text": [
      "/var/folders/_h/4nq6vjss06n4c6lxgh67t_rm0000gn/T/ipykernel_1558/112859877.py:1: DtypeWarning: Columns (1,3) have mixed types. Specify dtype option on import or set low_memory=False.\n",
      "  df = pd.read_csv('dataset.csv')\n"
     ]
    }
   ],
   "source": [
    "df = pd.read_csv('dataset.csv')"
   ]
  },
  {
   "cell_type": "code",
   "execution_count": 52,
   "metadata": {},
   "outputs": [
    {
     "data": {
      "text/html": [
       "<div>\n",
       "<style scoped>\n",
       "    .dataframe tbody tr th:only-of-type {\n",
       "        vertical-align: middle;\n",
       "    }\n",
       "\n",
       "    .dataframe tbody tr th {\n",
       "        vertical-align: top;\n",
       "    }\n",
       "\n",
       "    .dataframe thead th {\n",
       "        text-align: right;\n",
       "    }\n",
       "</style>\n",
       "<table border=\"1\" class=\"dataframe\">\n",
       "  <thead>\n",
       "    <tr style=\"text-align: right;\">\n",
       "      <th></th>\n",
       "      <th>Subject</th>\n",
       "      <th>Image Data ID</th>\n",
       "      <th>Data Quality Rating</th>\n",
       "      <th>Group</th>\n",
       "      <th>CTcaudalanteriorcingulateL</th>\n",
       "      <th>CTcaudalmiddlefrontalL</th>\n",
       "      <th>CTcuneusL</th>\n",
       "      <th>CTentorhinalL</th>\n",
       "      <th>CTfusiformL</th>\n",
       "      <th>CTinferiorparietalL</th>\n",
       "      <th>...</th>\n",
       "      <th>FDprecentralR</th>\n",
       "      <th>FDprecuneusR</th>\n",
       "      <th>FDrostralanteriorcingulateR</th>\n",
       "      <th>FDrostralmiddlefrontalR</th>\n",
       "      <th>FDsuperiorfrontalR</th>\n",
       "      <th>FDsuperiorparietalR</th>\n",
       "      <th>FDsuperiortemporalR</th>\n",
       "      <th>FDsupramarginalR</th>\n",
       "      <th>FDtransversetemporalR</th>\n",
       "      <th>FDinsulaR</th>\n",
       "    </tr>\n",
       "  </thead>\n",
       "  <tbody>\n",
       "    <tr>\n",
       "      <th>0</th>\n",
       "      <td>3101.0</td>\n",
       "      <td>I353356</td>\n",
       "      <td>1.0</td>\n",
       "      <td>PD</td>\n",
       "      <td>2.248</td>\n",
       "      <td>2.450</td>\n",
       "      <td>1.879</td>\n",
       "      <td>3.346</td>\n",
       "      <td>2.621</td>\n",
       "      <td>2.384</td>\n",
       "      <td>...</td>\n",
       "      <td>2.1286</td>\n",
       "      <td>2.1516</td>\n",
       "      <td>1.9409</td>\n",
       "      <td>2.1685</td>\n",
       "      <td>2.2665</td>\n",
       "      <td>2.1008</td>\n",
       "      <td>2.2065</td>\n",
       "      <td>2.1208</td>\n",
       "      <td>1.7844</td>\n",
       "      <td>2.1254</td>\n",
       "    </tr>\n",
       "    <tr>\n",
       "      <th>1</th>\n",
       "      <td>3104.0</td>\n",
       "      <td>I301552</td>\n",
       "      <td>1.0</td>\n",
       "      <td>Control</td>\n",
       "      <td>2.220</td>\n",
       "      <td>2.533</td>\n",
       "      <td>1.925</td>\n",
       "      <td>3.430</td>\n",
       "      <td>2.544</td>\n",
       "      <td>2.360</td>\n",
       "      <td>...</td>\n",
       "      <td>2.1475</td>\n",
       "      <td>2.1602</td>\n",
       "      <td>1.9567</td>\n",
       "      <td>2.1543</td>\n",
       "      <td>2.2493</td>\n",
       "      <td>2.1469</td>\n",
       "      <td>2.2173</td>\n",
       "      <td>2.1830</td>\n",
       "      <td>1.7808</td>\n",
       "      <td>2.1321</td>\n",
       "    </tr>\n",
       "    <tr>\n",
       "      <th>2</th>\n",
       "      <td>3105.0</td>\n",
       "      <td>I226403</td>\n",
       "      <td>1.0</td>\n",
       "      <td>PD</td>\n",
       "      <td>2.056</td>\n",
       "      <td>2.568</td>\n",
       "      <td>1.998</td>\n",
       "      <td>3.056</td>\n",
       "      <td>2.468</td>\n",
       "      <td>2.508</td>\n",
       "      <td>...</td>\n",
       "      <td>2.1284</td>\n",
       "      <td>2.1495</td>\n",
       "      <td>1.9454</td>\n",
       "      <td>2.1431</td>\n",
       "      <td>2.2240</td>\n",
       "      <td>2.1883</td>\n",
       "      <td>2.1926</td>\n",
       "      <td>2.1935</td>\n",
       "      <td>1.7871</td>\n",
       "      <td>2.0905</td>\n",
       "    </tr>\n",
       "    <tr>\n",
       "      <th>3</th>\n",
       "      <td>3106.0</td>\n",
       "      <td>I491581</td>\n",
       "      <td>1.0</td>\n",
       "      <td>Control</td>\n",
       "      <td>2.267</td>\n",
       "      <td>2.516</td>\n",
       "      <td>1.986</td>\n",
       "      <td>2.288</td>\n",
       "      <td>2.589</td>\n",
       "      <td>2.320</td>\n",
       "      <td>...</td>\n",
       "      <td>2.0885</td>\n",
       "      <td>2.1266</td>\n",
       "      <td>1.8295</td>\n",
       "      <td>2.1620</td>\n",
       "      <td>2.2266</td>\n",
       "      <td>2.1280</td>\n",
       "      <td>2.1599</td>\n",
       "      <td>2.1561</td>\n",
       "      <td>1.7469</td>\n",
       "      <td>2.0267</td>\n",
       "    </tr>\n",
       "    <tr>\n",
       "      <th>4</th>\n",
       "      <td>3108.0</td>\n",
       "      <td>I232161</td>\n",
       "      <td>1.0</td>\n",
       "      <td>PD</td>\n",
       "      <td>2.532</td>\n",
       "      <td>2.580</td>\n",
       "      <td>2.070</td>\n",
       "      <td>3.111</td>\n",
       "      <td>2.678</td>\n",
       "      <td>2.508</td>\n",
       "      <td>...</td>\n",
       "      <td>2.1411</td>\n",
       "      <td>2.1313</td>\n",
       "      <td>1.8824</td>\n",
       "      <td>2.1734</td>\n",
       "      <td>2.2749</td>\n",
       "      <td>2.1478</td>\n",
       "      <td>2.2046</td>\n",
       "      <td>2.1816</td>\n",
       "      <td>1.7674</td>\n",
       "      <td>2.1020</td>\n",
       "    </tr>\n",
       "  </tbody>\n",
       "</table>\n",
       "<p>5 rows × 128 columns</p>\n",
       "</div>"
      ],
      "text/plain": [
       "   Subject Image Data ID  Data Quality Rating    Group  \\\n",
       "0   3101.0       I353356                  1.0       PD   \n",
       "1   3104.0       I301552                  1.0  Control   \n",
       "2   3105.0       I226403                  1.0       PD   \n",
       "3   3106.0       I491581                  1.0  Control   \n",
       "4   3108.0       I232161                  1.0       PD   \n",
       "\n",
       "   CTcaudalanteriorcingulateL  CTcaudalmiddlefrontalL  CTcuneusL  \\\n",
       "0                       2.248                   2.450      1.879   \n",
       "1                       2.220                   2.533      1.925   \n",
       "2                       2.056                   2.568      1.998   \n",
       "3                       2.267                   2.516      1.986   \n",
       "4                       2.532                   2.580      2.070   \n",
       "\n",
       "   CTentorhinalL  CTfusiformL  CTinferiorparietalL  ...  FDprecentralR  \\\n",
       "0          3.346        2.621                2.384  ...         2.1286   \n",
       "1          3.430        2.544                2.360  ...         2.1475   \n",
       "2          3.056        2.468                2.508  ...         2.1284   \n",
       "3          2.288        2.589                2.320  ...         2.0885   \n",
       "4          3.111        2.678                2.508  ...         2.1411   \n",
       "\n",
       "   FDprecuneusR  FDrostralanteriorcingulateR  FDrostralmiddlefrontalR  \\\n",
       "0        2.1516                       1.9409                   2.1685   \n",
       "1        2.1602                       1.9567                   2.1543   \n",
       "2        2.1495                       1.9454                   2.1431   \n",
       "3        2.1266                       1.8295                   2.1620   \n",
       "4        2.1313                       1.8824                   2.1734   \n",
       "\n",
       "   FDsuperiorfrontalR  FDsuperiorparietalR  FDsuperiortemporalR  \\\n",
       "0              2.2665               2.1008               2.2065   \n",
       "1              2.2493               2.1469               2.2173   \n",
       "2              2.2240               2.1883               2.1926   \n",
       "3              2.2266               2.1280               2.1599   \n",
       "4              2.2749               2.1478               2.2046   \n",
       "\n",
       "   FDsupramarginalR  FDtransversetemporalR  FDinsulaR  \n",
       "0            2.1208                 1.7844     2.1254  \n",
       "1            2.1830                 1.7808     2.1321  \n",
       "2            2.1935                 1.7871     2.0905  \n",
       "3            2.1561                 1.7469     2.0267  \n",
       "4            2.1816                 1.7674     2.1020  \n",
       "\n",
       "[5 rows x 128 columns]"
      ]
     },
     "execution_count": 52,
     "metadata": {},
     "output_type": "execute_result"
    }
   ],
   "source": [
    "df.head()"
   ]
  },
  {
   "cell_type": "code",
   "execution_count": 53,
   "metadata": {},
   "outputs": [],
   "source": [
    "df = df.drop(df.columns[[0, 1, 2]], axis=1)\n",
    "df = df.dropna()"
   ]
  },
  {
   "cell_type": "code",
   "execution_count": 54,
   "metadata": {},
   "outputs": [
    {
     "data": {
      "text/html": [
       "<div>\n",
       "<style scoped>\n",
       "    .dataframe tbody tr th:only-of-type {\n",
       "        vertical-align: middle;\n",
       "    }\n",
       "\n",
       "    .dataframe tbody tr th {\n",
       "        vertical-align: top;\n",
       "    }\n",
       "\n",
       "    .dataframe thead th {\n",
       "        text-align: right;\n",
       "    }\n",
       "</style>\n",
       "<table border=\"1\" class=\"dataframe\">\n",
       "  <thead>\n",
       "    <tr style=\"text-align: right;\">\n",
       "      <th></th>\n",
       "      <th>Group</th>\n",
       "      <th>CTcaudalanteriorcingulateL</th>\n",
       "      <th>CTcaudalmiddlefrontalL</th>\n",
       "      <th>CTcuneusL</th>\n",
       "      <th>CTentorhinalL</th>\n",
       "      <th>CTfusiformL</th>\n",
       "      <th>CTinferiorparietalL</th>\n",
       "      <th>CTinferiortemporalL</th>\n",
       "      <th>CTisthmuscingulateL</th>\n",
       "      <th>CTlateraloccipitalL</th>\n",
       "      <th>...</th>\n",
       "      <th>FDprecentralR</th>\n",
       "      <th>FDprecuneusR</th>\n",
       "      <th>FDrostralanteriorcingulateR</th>\n",
       "      <th>FDrostralmiddlefrontalR</th>\n",
       "      <th>FDsuperiorfrontalR</th>\n",
       "      <th>FDsuperiorparietalR</th>\n",
       "      <th>FDsuperiortemporalR</th>\n",
       "      <th>FDsupramarginalR</th>\n",
       "      <th>FDtransversetemporalR</th>\n",
       "      <th>FDinsulaR</th>\n",
       "    </tr>\n",
       "  </thead>\n",
       "  <tbody>\n",
       "    <tr>\n",
       "      <th>0</th>\n",
       "      <td>PD</td>\n",
       "      <td>2.248</td>\n",
       "      <td>2.450</td>\n",
       "      <td>1.879</td>\n",
       "      <td>3.346</td>\n",
       "      <td>2.621</td>\n",
       "      <td>2.384</td>\n",
       "      <td>2.831</td>\n",
       "      <td>2.096</td>\n",
       "      <td>2.101</td>\n",
       "      <td>...</td>\n",
       "      <td>2.1286</td>\n",
       "      <td>2.1516</td>\n",
       "      <td>1.9409</td>\n",
       "      <td>2.1685</td>\n",
       "      <td>2.2665</td>\n",
       "      <td>2.1008</td>\n",
       "      <td>2.2065</td>\n",
       "      <td>2.1208</td>\n",
       "      <td>1.7844</td>\n",
       "      <td>2.1254</td>\n",
       "    </tr>\n",
       "    <tr>\n",
       "      <th>1</th>\n",
       "      <td>Control</td>\n",
       "      <td>2.220</td>\n",
       "      <td>2.533</td>\n",
       "      <td>1.925</td>\n",
       "      <td>3.430</td>\n",
       "      <td>2.544</td>\n",
       "      <td>2.360</td>\n",
       "      <td>2.811</td>\n",
       "      <td>2.412</td>\n",
       "      <td>2.265</td>\n",
       "      <td>...</td>\n",
       "      <td>2.1475</td>\n",
       "      <td>2.1602</td>\n",
       "      <td>1.9567</td>\n",
       "      <td>2.1543</td>\n",
       "      <td>2.2493</td>\n",
       "      <td>2.1469</td>\n",
       "      <td>2.2173</td>\n",
       "      <td>2.1830</td>\n",
       "      <td>1.7808</td>\n",
       "      <td>2.1321</td>\n",
       "    </tr>\n",
       "    <tr>\n",
       "      <th>2</th>\n",
       "      <td>PD</td>\n",
       "      <td>2.056</td>\n",
       "      <td>2.568</td>\n",
       "      <td>1.998</td>\n",
       "      <td>3.056</td>\n",
       "      <td>2.468</td>\n",
       "      <td>2.508</td>\n",
       "      <td>2.743</td>\n",
       "      <td>2.008</td>\n",
       "      <td>2.169</td>\n",
       "      <td>...</td>\n",
       "      <td>2.1284</td>\n",
       "      <td>2.1495</td>\n",
       "      <td>1.9454</td>\n",
       "      <td>2.1431</td>\n",
       "      <td>2.2240</td>\n",
       "      <td>2.1883</td>\n",
       "      <td>2.1926</td>\n",
       "      <td>2.1935</td>\n",
       "      <td>1.7871</td>\n",
       "      <td>2.0905</td>\n",
       "    </tr>\n",
       "    <tr>\n",
       "      <th>3</th>\n",
       "      <td>Control</td>\n",
       "      <td>2.267</td>\n",
       "      <td>2.516</td>\n",
       "      <td>1.986</td>\n",
       "      <td>2.288</td>\n",
       "      <td>2.589</td>\n",
       "      <td>2.320</td>\n",
       "      <td>2.808</td>\n",
       "      <td>2.093</td>\n",
       "      <td>2.205</td>\n",
       "      <td>...</td>\n",
       "      <td>2.0885</td>\n",
       "      <td>2.1266</td>\n",
       "      <td>1.8295</td>\n",
       "      <td>2.1620</td>\n",
       "      <td>2.2266</td>\n",
       "      <td>2.1280</td>\n",
       "      <td>2.1599</td>\n",
       "      <td>2.1561</td>\n",
       "      <td>1.7469</td>\n",
       "      <td>2.0267</td>\n",
       "    </tr>\n",
       "    <tr>\n",
       "      <th>4</th>\n",
       "      <td>PD</td>\n",
       "      <td>2.532</td>\n",
       "      <td>2.580</td>\n",
       "      <td>2.070</td>\n",
       "      <td>3.111</td>\n",
       "      <td>2.678</td>\n",
       "      <td>2.508</td>\n",
       "      <td>2.724</td>\n",
       "      <td>2.255</td>\n",
       "      <td>2.358</td>\n",
       "      <td>...</td>\n",
       "      <td>2.1411</td>\n",
       "      <td>2.1313</td>\n",
       "      <td>1.8824</td>\n",
       "      <td>2.1734</td>\n",
       "      <td>2.2749</td>\n",
       "      <td>2.1478</td>\n",
       "      <td>2.2046</td>\n",
       "      <td>2.1816</td>\n",
       "      <td>1.7674</td>\n",
       "      <td>2.1020</td>\n",
       "    </tr>\n",
       "  </tbody>\n",
       "</table>\n",
       "<p>5 rows × 125 columns</p>\n",
       "</div>"
      ],
      "text/plain": [
       "     Group  CTcaudalanteriorcingulateL  CTcaudalmiddlefrontalL  CTcuneusL  \\\n",
       "0       PD                       2.248                   2.450      1.879   \n",
       "1  Control                       2.220                   2.533      1.925   \n",
       "2       PD                       2.056                   2.568      1.998   \n",
       "3  Control                       2.267                   2.516      1.986   \n",
       "4       PD                       2.532                   2.580      2.070   \n",
       "\n",
       "   CTentorhinalL  CTfusiformL  CTinferiorparietalL  CTinferiortemporalL  \\\n",
       "0          3.346        2.621                2.384                2.831   \n",
       "1          3.430        2.544                2.360                2.811   \n",
       "2          3.056        2.468                2.508                2.743   \n",
       "3          2.288        2.589                2.320                2.808   \n",
       "4          3.111        2.678                2.508                2.724   \n",
       "\n",
       "   CTisthmuscingulateL  CTlateraloccipitalL  ...  FDprecentralR  FDprecuneusR  \\\n",
       "0                2.096                2.101  ...         2.1286        2.1516   \n",
       "1                2.412                2.265  ...         2.1475        2.1602   \n",
       "2                2.008                2.169  ...         2.1284        2.1495   \n",
       "3                2.093                2.205  ...         2.0885        2.1266   \n",
       "4                2.255                2.358  ...         2.1411        2.1313   \n",
       "\n",
       "   FDrostralanteriorcingulateR  FDrostralmiddlefrontalR  FDsuperiorfrontalR  \\\n",
       "0                       1.9409                   2.1685              2.2665   \n",
       "1                       1.9567                   2.1543              2.2493   \n",
       "2                       1.9454                   2.1431              2.2240   \n",
       "3                       1.8295                   2.1620              2.2266   \n",
       "4                       1.8824                   2.1734              2.2749   \n",
       "\n",
       "   FDsuperiorparietalR  FDsuperiortemporalR  FDsupramarginalR  \\\n",
       "0               2.1008               2.2065            2.1208   \n",
       "1               2.1469               2.2173            2.1830   \n",
       "2               2.1883               2.1926            2.1935   \n",
       "3               2.1280               2.1599            2.1561   \n",
       "4               2.1478               2.2046            2.1816   \n",
       "\n",
       "   FDtransversetemporalR  FDinsulaR  \n",
       "0                 1.7844     2.1254  \n",
       "1                 1.7808     2.1321  \n",
       "2                 1.7871     2.0905  \n",
       "3                 1.7469     2.0267  \n",
       "4                 1.7674     2.1020  \n",
       "\n",
       "[5 rows x 125 columns]"
      ]
     },
     "execution_count": 54,
     "metadata": {},
     "output_type": "execute_result"
    }
   ],
   "source": [
    "df.head()"
   ]
  },
  {
   "cell_type": "code",
   "execution_count": 55,
   "metadata": {},
   "outputs": [
    {
     "data": {
      "text/plain": [
       "Group                          object\n",
       "CTcaudalanteriorcingulateL    float64\n",
       "CTcaudalmiddlefrontalL        float64\n",
       "CTcuneusL                     float64\n",
       "CTentorhinalL                 float64\n",
       "                               ...   \n",
       "FDsuperiorparietalR           float64\n",
       "FDsuperiortemporalR           float64\n",
       "FDsupramarginalR              float64\n",
       "FDtransversetemporalR         float64\n",
       "FDinsulaR                     float64\n",
       "Length: 125, dtype: object"
      ]
     },
     "execution_count": 55,
     "metadata": {},
     "output_type": "execute_result"
    }
   ],
   "source": [
    "df.dtypes"
   ]
  },
  {
   "cell_type": "code",
   "execution_count": 56,
   "metadata": {},
   "outputs": [
    {
     "data": {
      "text/plain": [
       "Group\n",
       "PD         96\n",
       "Control    61\n",
       "Name: count, dtype: int64"
      ]
     },
     "execution_count": 56,
     "metadata": {},
     "output_type": "execute_result"
    }
   ],
   "source": [
    "(df['Group'].value_counts())"
   ]
  },
  {
   "cell_type": "code",
   "execution_count": 57,
   "metadata": {},
   "outputs": [],
   "source": [
    "ct_columns = df.columns[1:63]\n",
    "regions_CT = {\n",
    "    'Frontal':['CTsuperiorfrontalL', 'CTsuperiorfrontalR', 'CTcaudalanteriorcingulateL', 'CTcaudalanteriorcingulateR', \n",
    "               'CTcaudalmiddlefrontalL', 'CTcaudalmiddlefrontalR', 'CTlateralorbitofrontalL', 'CTlateralorbitofrontalR', \n",
    "               'CTmedialorbitofrontalL', 'CTmedialorbitofrontalR', 'CTparacentralL', 'CTparacentralR', 'CTparsopercularisL', \n",
    "               'CTparsopercularisR', 'CTparsorbitalisL', 'CTparsorbitalisR', 'CTparstriangularisL', 'CTparstriangularisR',\n",
    "               'CTprecentralL', 'CTprecentralR', 'CTrostralanteriorcingulateL', 'CTrostralanteriorcingulateR', \n",
    "               'CTrostralmiddlefrontalL','CTrostralmiddlefrontalR', \n",
    "               ],\n",
    "    'Parietal':['CTsuperiorparietalL', 'CTsuperiorparietalR', 'CTinferiorparietalL', 'CTinferiorparietalR', 'CTsupramarginalL', \n",
    "                'CTsupramarginalR', 'CTpostcentralL', 'CTpostcentralR', 'CTprecuneusL', 'CTprecuneusR'\n",
    "                ],\n",
    "    'Occipital':['CTlateraloccipitalR', 'CTlateraloccipitalL', 'CTlingualL', 'CTlingualR', 'CTcuneusR', 'CTcuneusL',\n",
    "                 'CTpericalcarineL', 'CTpericalcarineR'\n",
    "                 ],\n",
    "    'Temporal':['CTsuperiortemporalL', 'CTsuperiortemporalR', 'CTmiddletemporalL', 'CTmiddletemporalR', \n",
    "                'CTinferiortemporalL', 'CTinferiortemporalR', 'CTfusiformR', 'CTfusiformL', \n",
    "                'CTtransversetemporalL', 'CTtransversetemporalR', 'CTentorhinalL', 'CTentorhinalR', \n",
    "                'CTparahippocampalL', 'CTparahippocampalR', 'CTisthmuscingulateL', 'CTisthmuscingulateR',\n",
    "                'CTposteriorcingulateL', 'CTposteriorcingulateR'\n",
    "                ],\n",
    "}"
   ]
  },
  {
   "cell_type": "code",
   "execution_count": 58,
   "metadata": {},
   "outputs": [
    {
     "name": "stderr",
     "output_type": "stream",
     "text": [
      "/var/folders/_h/4nq6vjss06n4c6lxgh67t_rm0000gn/T/ipykernel_1558/509070056.py:10: FutureWarning: \n",
      "\n",
      "Passing `palette` without assigning `hue` is deprecated and will be removed in v0.14.0. Assign the `x` variable to `hue` and set `legend=False` for the same effect.\n",
      "\n",
      "  sns.boxplot(x='Group', y=columns[0], data=df, palette='Set2', width=0.5, notch=True)  # Using the first column in the region for visualization\n",
      "/var/folders/_h/4nq6vjss06n4c6lxgh67t_rm0000gn/T/ipykernel_1558/509070056.py:10: FutureWarning: \n",
      "\n",
      "Passing `palette` without assigning `hue` is deprecated and will be removed in v0.14.0. Assign the `x` variable to `hue` and set `legend=False` for the same effect.\n",
      "\n",
      "  sns.boxplot(x='Group', y=columns[0], data=df, palette='Set2', width=0.5, notch=True)  # Using the first column in the region for visualization\n",
      "/var/folders/_h/4nq6vjss06n4c6lxgh67t_rm0000gn/T/ipykernel_1558/509070056.py:10: FutureWarning: \n",
      "\n",
      "Passing `palette` without assigning `hue` is deprecated and will be removed in v0.14.0. Assign the `x` variable to `hue` and set `legend=False` for the same effect.\n",
      "\n",
      "  sns.boxplot(x='Group', y=columns[0], data=df, palette='Set2', width=0.5, notch=True)  # Using the first column in the region for visualization\n",
      "/var/folders/_h/4nq6vjss06n4c6lxgh67t_rm0000gn/T/ipykernel_1558/509070056.py:10: FutureWarning: \n",
      "\n",
      "Passing `palette` without assigning `hue` is deprecated and will be removed in v0.14.0. Assign the `x` variable to `hue` and set `legend=False` for the same effect.\n",
      "\n",
      "  sns.boxplot(x='Group', y=columns[0], data=df, palette='Set2', width=0.5, notch=True)  # Using the first column in the region for visualization\n"
     ]
    },
    {
     "data": {
      "image/png": "[encoded data removed]",
      "text/plain": [
       "<Figure size 1200x800 with 4 Axes>"
      ]
     },
     "metadata": {},
     "output_type": "display_data"
    }
   ],
   "source": [
    "import seaborn as sns\n",
    "import matplotlib.pyplot as plt\n",
    "\n",
    "# Initialise the figure and axis for the plots\n",
    "plt.figure(figsize=(12, 8))\n",
    "\n",
    "# Loop through each brain region and create a box plot for the 'Group' column\n",
    "for region, columns in regions_CT.items():\n",
    "    plt.subplot(2, 2, list(regions_CT.keys()).index(region) + 1)  # Create subplots for each region\n",
    "    sns.boxplot(x='Group', y=columns[0], data=df, palette='Set2', width=0.5, notch=True)  # Using the first column in the region for visualization\n",
    "    plt.title(f'Cortical Thickness in {region} Lobe')\n",
    "    plt.xlabel('Group')\n",
    "    plt.ylabel('Cortical Thickness')\n",
    "\n",
    "# Adjust layout and show the plots\n",
    "plt.tight_layout()\n",
    "plt.show()"
   ]
  },
  {
   "cell_type": "code",
   "execution_count": 59,
   "metadata": {},
   "outputs": [],
   "source": [
    "from sklearn.preprocessing import LabelEncoder\n",
    "\n",
    "features = pd.DataFrame({region: df[columns[0]] for region, columns in regions_CT.items()})\n",
    "target = LabelEncoder().fit_transform(df['Group'])"
   ]
  },
  {
   "cell_type": "code",
   "execution_count": 60,
   "metadata": {},
   "outputs": [],
   "source": [
    "from sklearn.model_selection import train_test_split\n",
    "\n",
    "X_train, X_test, y_train, y_test = train_test_split(features, target, test_size=0.2, random_state=42)\n"
   ]
  },
  {
   "cell_type": "code",
   "execution_count": 61,
   "metadata": {},
   "outputs": [
    {
     "data": {
      "text/html": [
       "<style>#sk-container-id-3 {color: black;}#sk-container-id-3 pre{padding: 0;}#sk-container-id-3 div.sk-toggleable {background-color: white;}#sk-container-id-3 label.sk-toggleable__label {cursor: pointer;display: block;width: 100%;margin-bottom: 0;padding: 0.3em;box-sizing: border-box;text-align: center;}#sk-container-id-3 label.sk-toggleable__label-arrow:before {content: \"▸\";float: left;margin-right: 0.25em;color: #696969;}#sk-container-id-3 label.sk-toggleable__label-arrow:hover:before {color: black;}#sk-container-id-3 div.sk-estimator:hover label.sk-toggleable__label-arrow:before {color: black;}#sk-container-id-3 div.sk-toggleable__content {max-height: 0;max-width: 0;overflow: hidden;text-align: left;background-color: #f0f8ff;}#sk-container-id-3 div.sk-toggleable__content pre {margin: 0.2em;color: black;border-radius: 0.25em;background-color: #f0f8ff;}#sk-container-id-3 input.sk-toggleable__control:checked~div.sk-toggleable__content {max-height: 200px;max-width: 100%;overflow: auto;}#sk-container-id-3 input.sk-toggleable__control:checked~label.sk-toggleable__label-arrow:before {content: \"▾\";}#sk-container-id-3 div.sk-estimator input.sk-toggleable__control:checked~label.sk-toggleable__label {background-color: #d4ebff;}#sk-container-id-3 div.sk-label input.sk-toggleable__control:checked~label.sk-toggleable__label {background-color: #d4ebff;}#sk-container-id-3 input.sk-hidden--visually {border: 0;clip: rect(1px 1px 1px 1px);clip: rect(1px, 1px, 1px, 1px);height: 1px;margin: -1px;overflow: hidden;padding: 0;position: absolute;width: 1px;}#sk-container-id-3 div.sk-estimator {font-family: monospace;background-color: #f0f8ff;border: 1px dotted black;border-radius: 0.25em;box-sizing: border-box;margin-bottom: 0.5em;}#sk-container-id-3 div.sk-estimator:hover {background-color: #d4ebff;}#sk-container-id-3 div.sk-parallel-item::after {content: \"\";width: 100%;border-bottom: 1px solid gray;flex-grow: 1;}#sk-container-id-3 div.sk-label:hover label.sk-toggleable__label {background-color: #d4ebff;}#sk-container-id-3 div.sk-serial::before {content: \"\";position: absolute;border-left: 1px solid gray;box-sizing: border-box;top: 0;bottom: 0;left: 50%;z-index: 0;}#sk-container-id-3 div.sk-serial {display: flex;flex-direction: column;align-items: center;background-color: white;padding-right: 0.2em;padding-left: 0.2em;position: relative;}#sk-container-id-3 div.sk-item {position: relative;z-index: 1;}#sk-container-id-3 div.sk-parallel {display: flex;align-items: stretch;justify-content: center;background-color: white;position: relative;}#sk-container-id-3 div.sk-item::before, #sk-container-id-3 div.sk-parallel-item::before {content: \"\";position: absolute;border-left: 1px solid gray;box-sizing: border-box;top: 0;bottom: 0;left: 50%;z-index: -1;}#sk-container-id-3 div.sk-parallel-item {display: flex;flex-direction: column;z-index: 1;position: relative;background-color: white;}#sk-container-id-3 div.sk-parallel-item:first-child::after {align-self: flex-end;width: 50%;}#sk-container-id-3 div.sk-parallel-item:last-child::after {align-self: flex-start;width: 50%;}#sk-container-id-3 div.sk-parallel-item:only-child::after {width: 0;}#sk-container-id-3 div.sk-dashed-wrapped {border: 1px dashed gray;margin: 0 0.4em 0.5em 0.4em;box-sizing: border-box;padding-bottom: 0.4em;background-color: white;}#sk-container-id-3 div.sk-label label {font-family: monospace;font-weight: bold;display: inline-block;line-height: 1.2em;}#sk-container-id-3 div.sk-label-container {text-align: center;}#sk-container-id-3 div.sk-container {/* jupyter's `normalize.less` sets `[hidden] { display: none; }` but bootstrap.min.css set `[hidden] { display: none !important; }` so we also need the `!important` here to be able to override the default hidden behavior on the sphinx rendered scikit-learn.org. See: https://github.com/scikit-learn/scikit-learn/issues/21755 */display: inline-block !important;position: relative;}#sk-container-id-3 div.sk-text-repr-fallback {display: none;}</style><div id=\"sk-container-id-3\" class=\"sk-top-container\"><div class=\"sk-text-repr-fallback\"><pre>RandomForestClassifier(class_weight=&#x27;balanced&#x27;, random_state=42)</pre><b>In a Jupyter environment, please rerun this cell to show the HTML representation or trust the notebook. <br />On GitHub, the HTML representation is unable to render, please try loading this page with nbviewer.org.</b></div><div class=\"sk-container\" hidden><div class=\"sk-item\"><div class=\"sk-estimator sk-toggleable\"><input class=\"sk-toggleable__control sk-hidden--visually\" id=\"sk-estimator-id-3\" type=\"checkbox\" checked><label for=\"sk-estimator-id-3\" class=\"sk-toggleable__label sk-toggleable__label-arrow\">RandomForestClassifier</label><div class=\"sk-toggleable__content\"><pre>RandomForestClassifier(class_weight=&#x27;balanced&#x27;, random_state=42)</pre></div></div></div></div></div>"
      ],
      "text/plain": [
       "RandomForestClassifier(class_weight='balanced', random_state=42)"
      ]
     },
     "execution_count": 61,
     "metadata": {},
     "output_type": "execute_result"
    }
   ],
   "source": [
    "from sklearn.ensemble import RandomForestClassifier\n",
    "\n",
    "# Initialise the Random Forest classifier\n",
    "clf = RandomForestClassifier(class_weight= 'balanced', random_state=42)\n",
    "\n",
    "# Train the classifier\n",
    "clf.fit(X_train, y_train)"
   ]
  },
  {
   "cell_type": "code",
   "execution_count": 62,
   "metadata": {},
   "outputs": [],
   "source": [
    "feature_importances = clf.feature_importances_\n",
    "feature_importance_df = pd.DataFrame({'Feature': features.columns, 'Importance': feature_importances})\n",
    "feature_importance_df = feature_importance_df.sort_values(by='Importance', ascending=False)"
   ]
  },
  {
   "cell_type": "code",
   "execution_count": 63,
   "metadata": {},
   "outputs": [
    {
     "name": "stderr",
     "output_type": "stream",
     "text": [
      "/var/folders/_h/4nq6vjss06n4c6lxgh67t_rm0000gn/T/ipykernel_1558/1648357862.py:2: FutureWarning: \n",
      "\n",
      "Passing `palette` without assigning `hue` is deprecated and will be removed in v0.14.0. Assign the `y` variable to `hue` and set `legend=False` for the same effect.\n",
      "\n",
      "  sns.barplot(x='Importance', y='Feature', data=feature_importance_df, palette='viridis')\n"
     ]
    },
    {
     "data": {
      "image/png": "[encoded data removed]",
      "text/plain": [
       "<Figure size 1000x600 with 1 Axes>"
      ]
     },
     "metadata": {},
     "output_type": "display_data"
    }
   ],
   "source": [
    "plt.figure(figsize=(10, 6))\n",
    "sns.barplot(x='Importance', y='Feature', data=feature_importance_df, palette='viridis')\n",
    "plt.title('Feature Importance - Parkinson\\'s Disease Prediction')\n",
    "plt.xlabel('Importance')\n",
    "plt.ylabel('Brain Region')\n",
    "plt.show()"
   ]
  },
  {
   "cell_type": "code",
   "execution_count": 64,
   "metadata": {},
   "outputs": [
    {
     "name": "stdout",
     "output_type": "stream",
     "text": [
      "Best Hyperparameters: {'class_weight': 'balanced', 'max_depth': None, 'min_samples_leaf': 4, 'min_samples_split': 2, 'n_estimators': 200}\n"
     ]
    }
   ],
   "source": [
    "from sklearn.model_selection import GridSearchCV\n",
    "\n",
    "# Define the hyperparameters and their potential values\n",
    "param_grid = {\n",
    "    'n_estimators': [100, 200, 300],  # Number of trees in the forest\n",
    "    'max_depth': [None, 10, 20, 30],  # Maximum depth of the tree\n",
    "    'min_samples_split': [2, 5, 10],   # Minimum number of samples required to split an internal node\n",
    "    'min_samples_leaf': [1, 2, 4],      # Minimum number of samples required to be at a leaf node\n",
    "    'class_weight': ['balanced']\n",
    "}\n",
    "\n",
    "clf = RandomForestClassifier(class_weight= 'balanced', random_state=42)\n",
    "\n",
    "# Perform Grid Search with 5-fold cross-validation\n",
    "grid_search = GridSearchCV(estimator=clf, param_grid=param_grid, cv=5)\n",
    "grid_search.fit(X_train, y_train)\n",
    "\n",
    "# Get the best parameters and the best model\n",
    "best_params = grid_search.best_params_\n",
    "best_model = grid_search.best_estimator_\n",
    "\n",
    "print(\"Best Hyperparameters:\", best_params)"
   ]
  },
  {
   "cell_type": "code",
   "execution_count": 65,
   "metadata": {},
   "outputs": [
    {
     "name": "stdout",
     "output_type": "stream",
     "text": [
      "Cross-Validation Scores: [0.68 0.36 0.68 0.52 0.72]\n",
      "Mean CV Accuracy: 0.592\n"
     ]
    }
   ],
   "source": [
    "from sklearn.model_selection import cross_val_score\n",
    "\n",
    "# Perform K-fold cross-validation (5 folds) with the best model\n",
    "cv_scores = cross_val_score(best_model, X_train, y_train, cv=5)\n",
    "\n",
    "print(\"Cross-Validation Scores:\", cv_scores)\n",
    "print(\"Mean CV Accuracy:\", cv_scores.mean())"
   ]
  },
  {
   "cell_type": "code",
   "execution_count": 66,
   "metadata": {},
   "outputs": [
    {
     "name": "stdout",
     "output_type": "stream",
     "text": [
      "Mean Cross-Validation Accuracy: 0.5860887096774193\n"
     ]
    }
   ],
   "source": [
    "from sklearn.model_selection import StratifiedKFold\n",
    "from sklearn.metrics import accuracy_score\n",
    "\n",
    "# Initialise Stratified K-Fold with 5 folds\n",
    "stratified_kfold = StratifiedKFold(n_splits=5, shuffle=True, random_state=42)\n",
    "\n",
    "# Initialise the Random Forest classifier with class weights\n",
    "clf = RandomForestClassifier(class_weight='balanced', random_state=42)\n",
    "\n",
    "# Lists to store cross-validation results\n",
    "accuracies = []\n",
    "\n",
    "# Iterate through the folds for training and validation\n",
    "for train_index, val_index in stratified_kfold.split(features, target):\n",
    "    X_train_fold, X_val_fold = features.iloc[train_index], features.iloc[val_index]\n",
    "    y_train_fold, y_val_fold = target[train_index], target[val_index]\n",
    "    \n",
    "    # Train the classifier\n",
    "    clf.fit(X_train_fold, y_train_fold)\n",
    "    \n",
    "    # Make predictions on the validation set\n",
    "    predictions = clf.predict(X_val_fold)\n",
    "    \n",
    "    # Calculate accuracy for this fold\n",
    "    accuracy = accuracy_score(y_val_fold, predictions)\n",
    "    accuracies.append(accuracy)\n",
    "\n",
    "# Calculate and print the mean accuracy across all folds\n",
    "mean_accuracy = sum(accuracies) / len(accuracies)\n",
    "print(\"Mean Cross-Validation Accuracy:\", mean_accuracy)\n"
   ]
  },
  {
   "cell_type": "code",
   "execution_count": 67,
   "metadata": {},
   "outputs": [
    {
     "name": "stdout",
     "output_type": "stream",
     "text": [
      "F1-Score: 0.65\n"
     ]
    }
   ],
   "source": [
    "from sklearn.metrics import f1_score\n",
    "\n",
    "# Train your model and make predictions on the test data\n",
    "clf.fit(X_train, y_train)\n",
    "predictions = clf.predict(X_test)\n",
    "\n",
    "# Calculate the F1-score\n",
    "f1 = f1_score(y_test, predictions)\n",
    "\n",
    "print(\"F1-Score:\", f1)"
   ]
  },
  {
   "cell_type": "code",
   "execution_count": 68,
   "metadata": {},
   "outputs": [
    {
     "data": {
      "image/png": "[encoded data removed]",
      "text/plain": [
       "<Figure size 600x400 with 2 Axes>"
      ]
     },
     "metadata": {},
     "output_type": "display_data"
    }
   ],
   "source": [
    "from sklearn.metrics import confusion_matrix\n",
    "import seaborn as sns\n",
    "import matplotlib.pyplot as plt\n",
    "\n",
    "# Calculate the confusion matrix\n",
    "conf_matrix = confusion_matrix(y_test, predictions)\n",
    "\n",
    "# Plot the confusion matrix as a heatmap\n",
    "plt.figure(figsize=(6, 4))\n",
    "sns.heatmap(conf_matrix, annot=True, fmt='g', cmap='Blues', \n",
    "            xticklabels=['Control', 'Parkinson\\'s Disease'],\n",
    "            yticklabels=['Control', 'Parkinson\\'s Disease'])\n",
    "plt.xlabel('Predicted')\n",
    "plt.ylabel('Actual')\n",
    "plt.title('Confusion Matrix')\n",
    "plt.show()"
   ]
  },
  {
   "cell_type": "code",
   "execution_count": null,
   "metadata": {},
   "outputs": [],
   "source": []
  }
 ],
 "metadata": {
  "kernelspec": {
   "display_name": ".venv",
   "language": "python",
   "name": "python3"
  },
  "language_info": {
   "codemirror_mode": {
    "name": "ipython",
    "version": 3
   },
   "file_extension": ".py",
   "mimetype": "text/x-python",
   "name": "python",
   "nbconvert_exporter": "python",
   "pygments_lexer": "ipython3",
   "version": "3.10.8"
  }
 },
 "nbformat": 4,
 "nbformat_minor": 2
}
